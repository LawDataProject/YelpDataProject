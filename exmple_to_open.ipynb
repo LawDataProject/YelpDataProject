{
 "cells": [
  {
   "cell_type": "code",
   "execution_count": 6,
   "metadata": {
    "collapsed": false
   },
   "outputs": [
    {
     "data": {
      "text/plain": [
       "<function close>"
      ]
     },
     "execution_count": 6,
     "metadata": {},
     "output_type": "execute_result"
    }
   ],
   "source": [
    "'''\n",
    "This is an example to load the first three reviews from yelp_academic_dataset_review_preprosessd.json.\n",
    "'''\n",
    "\n",
    "import json\n",
    "f = open('yelp_academic_dataset_review_preprosessd.json')\n",
    "line = f.readline()\n",
    "\n",
    "i=1\n",
    "while line:\n",
    "    #print line\n",
    "    line = f.readline()\n",
    "    review=json.loads(line)\n",
    "    \n",
    "    print \"---\"\n",
    "    print review[\"review_id\"]\n",
    "    print review[\"text\"]\n",
    "    print review[\"pos\"]\n",
    "    print review[\"stars\"]\n",
    "    print \"---\"\n",
    "    \n",
    "    if i==3:\n",
    "        break\n",
    "    i=i+1\n",
    "f.close"
   ]
  },
  {
   "cell_type": "code",
   "execution_count": 4,
   "metadata": {
    "collapsed": true
   },
   "outputs": [],
   "source": [
    "import json\n",
    "f=open('yelp_academic_dataset_review_preprosessd.json')\n",
    "line=f.readline()\n"
   ]
  },
  {
   "cell_type": "code",
   "execution_count": null,
   "metadata": {
    "collapsed": true
   },
   "outputs": [],
   "source": [
    "i = 1\n",
    "while line:\n",
    "    line = f.readline()\n",
    "    review = json.loads(line)\n",
    "    print(\"___\")\n",
    "    print()"
   ]
  }
 ],
 "metadata": {
  "kernelspec": {
   "display_name": "Python 2",
   "language": "python",
   "name": "python2"
  },
  "language_info": {
   "codemirror_mode": {
    "name": "ipython",
    "version": 2
   },
   "file_extension": ".py",
   "mimetype": "text/x-python",
   "name": "python",
   "nbconvert_exporter": "python",
   "pygments_lexer": "ipython2",
   "version": "2.7.10"
  }
 },
 "nbformat": 4,
 "nbformat_minor": 0
}
