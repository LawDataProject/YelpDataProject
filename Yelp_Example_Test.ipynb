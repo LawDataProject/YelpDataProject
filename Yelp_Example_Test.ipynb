{
 "metadata": {
  "kernelspec": {
   "display_name": "Python 2",
   "language": "python",
   "name": "python2"
  },
  "language_info": {
   "codemirror_mode": {
    "name": "ipython",
    "version": 2
   },
   "file_extension": ".py",
   "mimetype": "text/x-python",
   "name": "python",
   "nbconvert_exporter": "python",
   "pygments_lexer": "ipython2",
   "version": "2.7.10"
  },
  "name": "",
  "signature": "sha256:13e3e2a1359fce9959963ead98147b75f2afd407998b9c53241e0adc22528879"
 },
 "nbformat": 3,
 "nbformat_minor": 0,
 "worksheets": [
  {
   "cells": [
    {
     "cell_type": "code",
     "collapsed": false,
     "input": [
      "import json\n",
      "f = open('/Users/KristinDay/Desktop/OneDrive/0Education/0IU_MS_Data_Science/0Spring_2016/Sentiment_Analysis/yelp_data_processed.json')\n",
      "line = f.readline()\n",
      "\n",
      "i=1\n",
      "while line:\n",
      "    #print line\n",
      "    line = f.readline()\n",
      "    review=json.loads(line)\n",
      "    \n",
      "    print \"---\"\n",
      "    print review[\"review_id\"]\n",
      "    print review[\"text\"]\n",
      "    print review[\"pos\"]\n",
      "    print review[\"stars\"]\n",
      "    print \"---\"\n",
      "    \n",
      "    if i==3:\n",
      "        break\n",
      "    i=i+1\n",
      "f.close"
     ],
     "language": "python",
     "metadata": {},
     "outputs": [
      {
       "output_type": "stream",
       "stream": "stdout",
       "text": [
        "---\n",
        "fFSoGV46Yxuwbr3fHNuZig\n",
        "Yes this place is a little out dated and not opened on the weekend. But other than that the staff is always pleasant and fast to make your order. Which is always spot on fresh veggies on their hoggies and other food. They also have daily specials and ice cream which is really good. I had a banana split they piled the toppings on. They win pennysaver awards ever years i see why.\n",
        "Yes/UH this/DT place/NN is/VBZ a/DT little/JJ out/RP dated/VBN and/CC not/RB opened/VBN on/IN the/DT weekend/NN ./. But/CC other/JJ than/IN that/IN the/DT staff/NN is/VBZ always/RB pleasant/JJ and/CC fast/JJ to/TO make/VB your/PRP$ order/NN ./. Which/WDT is/VBZ always/RB spot/NN on/IN fresh/JJ veggies/NNS on/IN their/PRP$ hoggies/NNS and/CC other/JJ food/NN ./. They/PRP also/RB have/VBP daily/JJ specials/NNS and/CC ice/NN cream/NN which/WDT is/VBZ really/RB good/JJ ./. I/PRP had/VBD a/DT banana/NN split/NN they/PRP piled/VBD the/DT toppings/NNS on/IN ./. They/PRP win/VBP pennysaver/NN awards/NNS ever/RB years/NNS i/FW see/VB why/WRB ./. \n",
        "5\n",
        "---\n",
        "---\n",
        "Di3exaUCFNw1V4kSNW5pgA\n",
        "All the food is great here. But the best thing they have is their wings. Their wings are simply fantastic!!  The \"Wet Cajun\" are by the best & most popular.  I also like the seasoned salt wings.  Wing Night is Monday & Wednesday night, $0.75 whole wings!\n",
        "\n",
        "The dining area is nice. Very family friendly! The bar is very nice is well.  This place is truly a Yinzer's dream!!  \"Pittsburgh Dad\" would love this place n'at!!\n",
        "All/PDT the/DT food/NN is/VBZ great/JJ here/RB ./. But/CC the/DT best/JJS thing/NN they/PRP have/VBP is/VBZ their/PRP$ wings/NNS ./. Their/PRP$ wings/NNS are/VBP simply/RB fantastic/JJ !!/IN The/DT ``/`` Wet/NNP Cajun/NNP ''/'' are/VBP by/IN the/DT best/JJS &/CC most/RBS popular/JJ ./. I/PRP also/RB like/VBP the/DT seasoned/JJ salt/NN wings/NNS ./. Wing/NN Night/NN is/VBZ Monday/NNP &/CC Wednesday/NNP night/NN ,/, $/$ 0.75/CD whole/JJ wings/NNS !/. The/DT dining/NN area/NN is/VBZ nice/JJ ./. Very/RB family/NN friendly/JJ !/. The/DT bar/NN is/VBZ very/RB nice/JJ is/VBZ well/RB ./. This/DT place/NN is/VBZ truly/RB a/DT Yinzer/NNP 's/POS dream/NN !!/IN ``/`` Pittsburgh/NNP Dad/NNP ''/'' would/MD love/VB this/DT place/NN n'at/NN !!/CD \n",
        "5\n",
        "---\n",
        "---\n",
        "0Lua2-PbqEQMjD9r89-asw\n",
        "We checked this place out this past Monday for their wing night. We have heard that their wings are great and decided it was finally time to check it out. Their wings are whole wings and crispy, which is a nice change of pace. I got their wet Cajun sauce and garlic butter wings. The Cajun did not have a bold enough flavor for me and their sauce is too thin. The sauce was also thin for the garlic butter, but that is more expected. They were better than average, but I don't like seeing all the sauce resting at the bottom of the boat. I would definitely come try this place out again to sample some of the other items on the menu, but this will probably not become a regular stop for wings anytime soon.\n",
        "We/PRP checked/VBD this/DT place/NN out/IN this/DT past/JJ Monday/NNP for/IN their/PRP$ wing/NN night/NN ./. We/PRP have/VBP heard/VBN that/IN their/PRP$ wings/NNS are/VBP great/JJ and/CC decided/VBD it/PRP was/VBD finally/RB time/NN to/TO check/VB it/PRP out/RP ./. Their/PRP$ wings/NNS are/VBP whole/JJ wings/NNS and/CC crispy/JJ ,/, which/WDT is/VBZ a/DT nice/JJ change/NN of/IN pace/NN ./. I/PRP got/VBD their/PRP$ wet/JJ Cajun/NNP sauce/NN and/CC garlic/NN butter/NN wings/NNS ./. The/DT Cajun/NNP did/VBD not/RB have/VB a/DT bold/JJ enough/JJ flavor/NN for/IN me/PRP and/CC their/PRP$ sauce/NN is/VBZ too/RB thin/JJ ./. The/DT sauce/NN was/VBD also/RB thin/JJ for/IN the/DT garlic/JJ butter/NN ,/, but/CC that/DT is/VBZ more/RBR expected/VBN ./. They/PRP were/VBD better/JJR than/IN average/NN ,/, but/CC I/PRP do/VBP n't/RB like/VB seeing/VBG all/PDT the/DT sauce/NN resting/VBG at/IN the/DT bottom/NN of/IN the/DT boat/NN ./. I/PRP would/MD definitely/RB come/VB try/VB this/DT place/NN out/RP again/RB to/TO sample/NN some/DT of/IN the/DT other/JJ items/NNS on/IN the/DT menu/NN ,/, but/CC this/DT will/MD probably/RB not/RB become/VB a/DT regular/JJ stop/NN for/IN wings/NNS anytime/RB soon/RB ./. \n",
        "3\n",
        "---\n"
       ]
      },
      {
       "metadata": {},
       "output_type": "pyout",
       "prompt_number": 2,
       "text": [
        "<function close>"
       ]
      }
     ],
     "prompt_number": 2
    },
    {
     "cell_type": "code",
     "collapsed": true,
     "input": [],
     "language": "python",
     "metadata": {},
     "outputs": [],
     "prompt_number": null
    }
   ],
   "metadata": {}
  }
 ]
}